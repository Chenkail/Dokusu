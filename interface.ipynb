{
 "cells": [
  {
   "cell_type": "code",
   "execution_count": 1,
   "metadata": {},
   "outputs": [],
   "source": [
    "import ipywidgets as widgets\n",
    "from dokusu import *\n",
    "import numpy as np\n",
    "import time\n",
    "from IPython.display import display"
   ]
  },
  {
   "cell_type": "code",
   "execution_count": 2,
   "metadata": {},
   "outputs": [
    {
     "data": {
      "text/plain": [
       "7 □ 1  □ 3 □  □ □ □\n",
       "□ 8 □  7 □ 6  □ □ □\n",
       "□ □ 3  □ 5 □  9 □ □\n",
       "\n",
       "□ □ □  4 □ 2  □ 9 □\n",
       "□ □ □  □ 7 □  1 □ 5\n",
       "□ □ □  □ □ 5  □ 8 □\n",
       "\n",
       "1 □ □  □ □ □  3 □ 9\n",
       "□ 3 □  □ □ □  □ 6 □\n",
       "9 □ 5  □ □ □  □ □ 1"
      ]
     },
     "execution_count": 2,
     "metadata": {},
     "output_type": "execute_result"
    }
   ],
   "source": [
    "# sudoku = Sudoku.sample()\n",
    "sudoku = Sudoku.from_file('sample_puzzles/hard2.csv')\n",
    "sudoku"
   ]
  },
  {
   "cell_type": "code",
   "execution_count": 3,
   "metadata": {},
   "outputs": [
    {
     "name": "stdout",
     "output_type": "stream",
     "text": [
      "CPU times: user 77.9 ms, sys: 150 µs, total: 78.1 ms\n",
      "Wall time: 77.6 ms\n"
     ]
    },
    {
     "data": {
      "text/plain": [
       "7 2 1  9 3 4  6 5 8\n",
       "5 8 9  7 2 6  4 1 3\n",
       "4 6 3  8 5 1  9 7 2\n",
       "\n",
       "3 5 8  4 1 2  7 9 6\n",
       "2 9 4  6 7 8  1 3 5\n",
       "6 1 7  3 9 5  2 8 4\n",
       "\n",
       "1 4 6  5 8 7  3 2 9\n",
       "8 3 2  1 4 9  5 6 7\n",
       "9 7 5  2 6 3  8 4 1"
      ]
     },
     "execution_count": 3,
     "metadata": {},
     "output_type": "execute_result"
    }
   ],
   "source": [
    "%%time\n",
    "sudoku.solve()"
   ]
  },
  {
   "cell_type": "code",
   "execution_count": 4,
   "metadata": {},
   "outputs": [],
   "source": [
    "# %%timeit\n",
    "# sudoku.reset()\n",
    "# sudoku.solve()"
   ]
  },
  {
   "cell_type": "code",
   "execution_count": 5,
   "metadata": {},
   "outputs": [],
   "source": [
    "cages = [\n",
    "    KillerCageRule([(1, 0), (2, 0), (2, 1), (3, 0)], 23),\n",
    "    KillerCageRule([(4, 0), (4, 1), (3, 1), (5, 1)], 28),\n",
    "    KillerCageRule([(5, 0), (6, 0), (7, 0), (6, 1)], 12),\n",
    "    KillerCageRule([(7, 2), (8, 2), (8, 1), (8, 3)], 13),\n",
    "    KillerCageRule([(3, 2), (4, 2), (5, 2), (4, 3)], 10),\n",
    "    KillerCageRule([(0, 1), (0, 2), (0, 3), (1, 2)], 24),\n",
    "    KillerCageRule([(0, 5), (0, 6), (0, 7), (1, 6)], 10),\n",
    "    KillerCageRule([(1, 8), (2, 8), (2, 7), (3, 8)], 19),\n",
    "    KillerCageRule([(4, 8), (4, 7), (5, 7), (3, 7)], 30),\n",
    "    KillerCageRule([(7, 8), (6, 8), (5, 8), (6, 7)], 11),\n",
    "    KillerCageRule([(7, 6), (8, 6), (8, 7), (8, 5)], 16),\n",
    "    KillerCageRule([(7, 4), (5, 4), (6, 4), (6, 5)], 23),\n",
    "    KillerCageRule([(3, 6), (4, 6), (5, 6), (4, 5)], 11),\n",
    "    KillerCageRule([(1, 4), (2, 4), (3, 4), (2, 3)], 11),\n",
    "]"
   ]
  },
  {
   "cell_type": "code",
   "execution_count": 18,
   "metadata": {},
   "outputs": [
    {
     "data": {
      "text/html": [
       "<style>\n",
       ".cell-small > .jp-OutputArea > .jp-OutputArea-child > .jp-OutputArea-output > pre  {\n",
       "    font-size: 9px !important;\n",
       "    color: #888888;\n",
       "    text-align: center;\n",
       "}\n",
       ".cell {\n",
       "    border: 1px solid gray;\n",
       "    margin: auto;\n",
       "    height: 35px;\n",
       "    width: 35px;\n",
       "}\n",
       ".cell-large > .jp-OutputArea > .jp-OutputArea-child > .jp-OutputArea-output > pre {\n",
       "    font-size: 27px !important;\n",
       "    text-align: center;\n",
       "}\n",
       ".cell-guess {\n",
       " // background-color: #000055 !important;\n",
       "    border: 1px solid white !important;\n",
       "}\n",
       ".cell-yellow {\n",
       "    background-color: #806A00;\n",
       "}\n",
       "</style>\n"
      ],
      "text/plain": [
       "<IPython.core.display.HTML object>"
      ]
     },
     "metadata": {},
     "output_type": "display_data"
    }
   ],
   "source": [
    "%%html\n",
    "<style>\n",
    ".cell-small > .jp-OutputArea > .jp-OutputArea-child > .jp-OutputArea-output > pre  {\n",
    "    font-size: 9px !important;\n",
    "    color: #888888;\n",
    "    text-align: center;\n",
    "}\n",
    ".cell {\n",
    "    border: 1px solid gray;\n",
    "    margin: auto;\n",
    "    height: 35px;\n",
    "    width: 35px;\n",
    "}\n",
    ".cell-large > .jp-OutputArea > .jp-OutputArea-child > .jp-OutputArea-output > pre {\n",
    "    font-size: 27px !important;\n",
    "    text-align: center;\n",
    "}\n",
    ".cell-guess {\n",
    " // background-color: #000055 !important;\n",
    "    border: 1px solid white !important;\n",
    "}\n",
    ".cell-yellow {\n",
    "    background-color: #806A00;\n",
    "}\n",
    "</style>"
   ]
  },
  {
   "cell_type": "code",
   "execution_count": 19,
   "metadata": {},
   "outputs": [],
   "source": [
    "def create_cell_output(i):\n",
    "    out = widgets.Output(\n",
    "        outputs=({'output_type': 'display_data', 'data': {'text/plain': ''}},)\n",
    "    )\n",
    "    out.add_class('cell')\n",
    "    out.add_class(f'cell-{i}')\n",
    "    return out"
   ]
  },
  {
   "cell_type": "code",
   "execution_count": 20,
   "metadata": {},
   "outputs": [],
   "source": [
    "def cell_outputs():\n",
    "    return [create_cell_output(i) for i in range(9*9)]"
   ]
  },
  {
   "cell_type": "code",
   "execution_count": 23,
   "metadata": {},
   "outputs": [],
   "source": [
    "def cell_update(sudoku, cell, guess=False):\n",
    "    cell = tuple(cell)\n",
    "    out = cell_grid[cell]\n",
    "    if guess:\n",
    "        cell_grid[cell].add_class('cell-guess')\n",
    "    else:\n",
    "        cell_grid[cell].remove_class('cell-guess')\n",
    "    \n",
    "    if sudoku.board[cell] > 0:\n",
    "        out.outputs = ({'output_type': 'display_data', 'data': {'text/plain': f'{sudoku.board[cell]}'}},)\n",
    "        out.add_class('cell-large')\n",
    "        out.remove_class('cell-small')\n",
    "        return\n",
    "    \n",
    "    numbers = np.arange(1, 10) * sudoku.possibilities[cell]\n",
    "    a = [num if num > 0 else ' ' for num in numbers]\n",
    "    out.remove_class('cell-large')\n",
    "    out.add_class('cell-small')\n",
    "    out.outputs=({\n",
    "        'output_type': 'display_data',\n",
    "        'data': {'text/plain': f'{a[0]}{a[1]}{a[2]}\\n{a[3]}{a[4]}{a[5]}\\n{a[6]}{a[7]}{a[8]}'}\n",
    "    },)"
   ]
  },
  {
   "cell_type": "code",
   "execution_count": 24,
   "metadata": {},
   "outputs": [],
   "source": [
    "layout = widgets.Layout(grid_template_columns='1fr '*3, width='365px', border=\"1px solid gray\")\n",
    "cells = cell_outputs()\n",
    "cell_grid = np.array([cells[9*i:9*(i+1)] for i in range(9)])\n",
    "\n",
    "block_layout = widgets.Layout(grid_template_columns='1fr '*3, width='121px', height='121px', border=\"2px solid white\")\n",
    "def block_slice(i, bs=3):\n",
    "    y, x = i//bs, i%bs\n",
    "    return slice(bs*y, bs*(y+1)), slice(bs*x, bs*(x+1))\n",
    "cell_blocks = [\n",
    "    widgets.GridBox(list(cell_grid[block_slice(i)].flat), layout=block_layout)\n",
    "    for i in range(9)\n",
    "]\n",
    "\n",
    "sudoku_grid = widgets.GridBox(cell_blocks, layout=layout)"
   ]
  },
  {
   "cell_type": "code",
   "execution_count": 69,
   "metadata": {},
   "outputs": [
    {
     "data": {
      "text/html": [
       "<style>.color-23 {\n",
       "background-color: #105337\n",
       "}\n",
       ".color-28 {\n",
       "background-color: #0c0d4d\n",
       "}\n",
       ".color-12 {\n",
       "background-color: #563a20\n",
       "}\n",
       ".color-13 {\n",
       "background-color: #3b3e0f\n",
       "}\n",
       ".color-10 {\n",
       "background-color: #56175c\n",
       "}\n",
       ".color-24 {\n",
       "background-color: #55540a\n",
       "}\n",
       ".color-19 {\n",
       "background-color: #632d48\n",
       "}\n",
       ".color-30 {\n",
       "background-color: #2d2b28\n",
       "}\n",
       ".color-11 {\n",
       "background-color: #456345\n",
       "}\n",
       ".color-16 {\n",
       "background-color: #3c5a5e\n",
       "}\n",
       "</style>"
      ],
      "text/plain": [
       "<IPython.core.display.HTML object>"
      ]
     },
     "metadata": {},
     "output_type": "display_data"
    },
    {
     "data": {
      "application/vnd.jupyter.widget-view+json": {
       "model_id": "7d76cbd6e146499b8c428456abbbf65d",
       "version_major": 2,
       "version_minor": 0
      },
      "text/plain": [
       "HBox(children=(Output(outputs=({'output_type': 'display_data', 'data': {'text/plain': '23'}},), _dom_classes=(…"
      ]
     },
     "metadata": {},
     "output_type": "display_data"
    }
   ],
   "source": [
    "from IPython.display import HTML\n",
    "\n",
    "np.random.seed(12)\n",
    "\n",
    "colors = {}\n",
    "for cage in cages:\n",
    "    \n",
    "    a, b, c = np.random.randint(10, 100, 3)\n",
    "    colors[cage.sum] = f'#{a:02x}{b:02x}{c:02x}'\n",
    "    \n",
    "outputs = []\n",
    "styles = ''\n",
    "for sum, color in colors.items():\n",
    "    out = widgets.Output(\n",
    "        outputs=({'output_type': 'display_data', 'data': {'text/plain': f'{sum}'}},)\n",
    "    )\n",
    "    out.add_class('cell')\n",
    "    out.add_class(f'color-{sum}')\n",
    "    styles += f'.color-{sum} {{\\nbackground-color: {color}\\n}}\\n'\n",
    "    outputs.append(out)\n",
    "    \n",
    "for cage in cages:\n",
    "    i, j = min(cage.indices.tolist())\n",
    "    for I, J in cage.indices:\n",
    "        cell_grid[I, J].add_class(f'color-{cage.sum}')\n",
    "\n",
    "display(HTML(f'<style>{styles}</style>'))\n",
    "widgets.HBox(outputs, layout=widgets.Layout(width='516px'))"
   ]
  },
  {
   "cell_type": "code",
   "execution_count": 33,
   "metadata": {},
   "outputs": [
    {
     "data": {
      "application/vnd.jupyter.widget-view+json": {
       "model_id": "e4c3f565dffc4783ab9318fee74374b8",
       "version_major": 2,
       "version_minor": 0
      },
      "text/plain": [
       "GridBox(children=(GridBox(children=(Output(outputs=({'output_type': 'display_data', 'data': {'text/plain': ''}…"
      ]
     },
     "metadata": {},
     "output_type": "display_data"
    },
    {
     "data": {
      "application/vnd.jupyter.widget-view+json": {
       "model_id": "f7ea4cf308514cb29f948ba75788b8ab",
       "version_major": 2,
       "version_minor": 0
      },
      "text/plain": [
       "HBox(children=(Output(outputs=({'output_type': 'display_data', 'data': {'text/plain': '23'}},), _dom_classes=(…"
      ]
     },
     "metadata": {},
     "output_type": "display_data"
    }
   ],
   "source": [
    "display(sudoku_grid)\n",
    "widgets.HBox(outputs, layout=widgets.Layout(width='365px'))"
   ]
  },
  {
   "cell_type": "code",
   "execution_count": 72,
   "metadata": {},
   "outputs": [],
   "source": [
    "# sudoku = Sudoku.from_file('sample_puzzles/hard1.csv')\n",
    "# sudoku = Sudoku.sample()\n",
    "sudoku = Sudoku(np.zeros((9, 9), dtype=np.uint8))\n",
    "sudoku.rules += cages\n",
    "# sudoku.board[7, 2] = 1\n",
    "for pos in np.argwhere(sudoku.board > -1):\n",
    "    cell_update(sudoku, pos)"
   ]
  },
  {
   "cell_type": "code",
   "execution_count": 71,
   "metadata": {},
   "outputs": [],
   "source": [
    "sudoku.solve(extended_depth=2, on_cell_update=cell_update)\n",
    "for pos in np.argwhere(sudoku.board > -1):\n",
    "    cell_update(sudoku, pos)"
   ]
  },
  {
   "cell_type": "code",
   "execution_count": 77,
   "metadata": {},
   "outputs": [],
   "source": [
    "_ = sudoku.possibilities_reduction(extended=True)\n",
    "_ = sudoku.find_solvable()\n",
    "for pos in np.argwhere(sudoku.board > -1):\n",
    "    cell_update(sudoku, pos)"
   ]
  },
  {
   "cell_type": "code",
   "execution_count": 18,
   "metadata": {},
   "outputs": [
    {
     "data": {
      "image/png": "[encoded data removed]",
      "text/plain": [
       "<Figure size 432x288 with 2 Axes>"
      ]
     },
     "metadata": {
      "needs_background": "light"
     },
     "output_type": "display_data"
    }
   ],
   "source": [
    "import matplotlib.pyplot as plt\n",
    "\n",
    "plt.imshow(sudoku.calculate_restriction().sum(-1))\n",
    "plt.colorbar()\n",
    "plt.show()"
   ]
  },
  {
   "cell_type": "code",
   "execution_count": null,
   "metadata": {},
   "outputs": [],
   "source": []
  },
  {
   "cell_type": "code",
   "execution_count": null,
   "metadata": {},
   "outputs": [],
   "source": []
  }
 ],
 "metadata": {
  "kernelspec": {
   "display_name": "Python 3",
   "language": "python",
   "name": "python3"
  },
  "language_info": {
   "codemirror_mode": {
    "name": "ipython",
    "version": 3
   },
   "file_extension": ".py",
   "mimetype": "text/x-python",
   "name": "python",
   "nbconvert_exporter": "python",
   "pygments_lexer": "ipython3",
   "version": "3.7.9"
  }
 },
 "nbformat": 4,
 "nbformat_minor": 4
}
